{
 "cells": [
  {
   "cell_type": "markdown",
   "metadata": {},
   "source": [
    "RENTAL PROPERTY CALCULATOR "
   ]
  },
  {
   "cell_type": "markdown",
   "metadata": {},
   "source": [
    "~INCOME~\n",
    "$3000"
   ]
  },
  {
   "cell_type": "markdown",
   "metadata": {},
   "source": [
    "~EXPENSES~\n",
    "-Tax: $135\n",
    "-Insurance: $185\n",
    "-HOA: $128\n",
    "-Utilites: $400\n",
    "(Water,Sewer,Gas,Electric)\n",
    "TOTAL= $848"
   ]
  },
  {
   "cell_type": "markdown",
   "metadata": {},
   "source": [
    "~CASH FLOW~\n",
    "-Income: $3000\n",
    "        -$848\n",
    "        -------\n",
    "CashFlow:$2,152\n",
    "-Expenses: $848\n",
    "TOTAL= $3848"
   ]
  },
  {
   "cell_type": "markdown",
   "metadata": {},
   "source": [
    "~CASH ON CASH ROI~\n",
    "-Down Payment: $10,000\n",
    "-Closing Costs: $5,000\n",
    "-Rehab Budget: $11,000\n",
    "Total= $26,000"
   ]
  },
  {
   "cell_type": "code",
   "execution_count": 43,
   "metadata": {},
   "outputs": [
    {
     "name": "stdout",
     "output_type": "stream",
     "text": [
      "ROI (Return on Investment): 135.20%\n"
     ]
    }
   ],
   "source": [
    "investment = 26000\n",
    "income = 3000\n",
    "expense = 848\n",
    "\n",
    "class ROICalculator:\n",
    "   def __init__(self,investment, income, expense):\n",
    "    self.investment = investment\n",
    "    self.income = income\n",
    "    self.expense = expense\n",
    "\n",
    "   def calculate_roi(self):\n",
    "       net_profit = self.income * 12 - self.expense\n",
    "       roi = (net_profit / self.investment) * 100\n",
    "       return roi\n",
    "   \n",
    "roi_calculator = ROICalculator(investment, income, expense)\n",
    "result = roi_calculator.calculate_roi()\n",
    "print(\"ROI (Return on Investment): {:.2f}%\".format(result))"
   ]
  },
  {
   "cell_type": "code",
   "execution_count": 2,
   "metadata": {},
   "outputs": [
    {
     "name": "stdout",
     "output_type": "stream",
     "text": [
      "ROI(Return on Investment): 230.00%\n"
     ]
    }
   ],
   "source": [
    "#calculate the the example above and change the numbers around to input your own information \n",
    "\n",
    "class ROICalculator:\n",
    "    def __init__(self):\n",
    "        self.investment = float(input(\"Enter the investment amount\"))\n",
    "        self.income = float(input(\"Enter the monthly rental income\"))\n",
    "        self.expense = float(input(\"Enter the montly expenses\"))\n",
    "        \n",
    "    def calculate_roi(self):\n",
    "        net_profit = self.income * 12 - self.expense\n",
    "        roi = (net_profit / self.investment) * 100\n",
    "        return roi\n",
    "    \n",
    "roi_calculator = ROICalculator()\n",
    "result = roi_calculator.calculate_roi()\n",
    "print(\"ROI(Return on Investment): {:.2f}%\".format(result))"
   ]
  }
 ],
 "metadata": {
  "kernelspec": {
   "display_name": "base",
   "language": "python",
   "name": "python3"
  },
  "language_info": {
   "codemirror_mode": {
    "name": "ipython",
    "version": 3
   },
   "file_extension": ".py",
   "mimetype": "text/x-python",
   "name": "python",
   "nbconvert_exporter": "python",
   "pygments_lexer": "ipython3",
   "version": "3.11.4"
  },
  "orig_nbformat": 4
 },
 "nbformat": 4,
 "nbformat_minor": 2
}
