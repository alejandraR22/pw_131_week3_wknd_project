{
 "cells": [
  {
   "cell_type": "markdown",
   "metadata": {},
   "source": [
    "RENTAL PROPERTY CALCULATOR "
   ]
  },
  {
   "cell_type": "markdown",
   "metadata": {},
   "source": [
    "~INCOME~\n",
    "$3000"
   ]
  },
  {
   "cell_type": "markdown",
   "metadata": {},
   "source": [
    "~EXPENSES~\n",
    "-Tax: $135\n",
    "-Insurance: $185\n",
    "-HOA: $128\n",
    "-Utilites: $400\n",
    "(Water,Sewer,Gas,Electric)\n",
    "TOTAL= $848"
   ]
  },
  {
   "cell_type": "markdown",
   "metadata": {},
   "source": [
    "~CASH FLOW~\n",
    "-Income: $3000\n",
    "        -$848\n",
    "        -------\n",
    "CashFlow:$2,152\n",
    "-Expenses: $848\n",
    "TOTAL= $3848"
   ]
  },
  {
   "cell_type": "markdown",
   "metadata": {},
   "source": [
    "~CASH ON CASH ROI~\n",
    "-Down Payment: $10,000\n",
    "-Closing Costs: $5,000\n",
    "-Rehab Budget: $11,000\n",
    "Total= $26,000"
   ]
  },
  {
   "cell_type": "code",
   "execution_count": 34,
   "metadata": {},
   "outputs": [
    {
     "ename": "NameError",
     "evalue": "name 'investment' is not defined",
     "output_type": "error",
     "traceback": [
      "\u001b[0;31m---------------------------------------------------------------------------\u001b[0m",
      "\u001b[0;31mNameError\u001b[0m                                 Traceback (most recent call last)",
      "\u001b[1;32m/Users/alejandra/Desktop/pw_131/Coding Temple /week 3/wknd project wk3/JupyterNotebook.ipynb Cell 6\u001b[0m line \u001b[0;36m1\n\u001b[1;32m      <a href='vscode-notebook-cell:/Users/alejandra/Desktop/pw_131/Coding%20Temple%20/week%203/wknd%20project%20wk3/JupyterNotebook.ipynb#X12sZmlsZQ%3D%3D?line=6'>7</a>\u001b[0m     roi \u001b[39m=\u001b[39m (net_profit\u001b[39m/\u001b[39minvestment)\u001b[39m*\u001b[39m\u001b[39m100\u001b[39m\n\u001b[1;32m      <a href='vscode-notebook-cell:/Users/alejandra/Desktop/pw_131/Coding%20Temple%20/week%203/wknd%20project%20wk3/JupyterNotebook.ipynb#X12sZmlsZQ%3D%3D?line=7'>8</a>\u001b[0m     \u001b[39mreturn\u001b[39;00m roi\n\u001b[0;32m---> <a href='vscode-notebook-cell:/Users/alejandra/Desktop/pw_131/Coding%20Temple%20/week%203/wknd%20project%20wk3/JupyterNotebook.ipynb#X12sZmlsZQ%3D%3D?line=9'>10</a>\u001b[0m result \u001b[39m=\u001b[39m ROI(investment,income,expense)\n\u001b[1;32m     <a href='vscode-notebook-cell:/Users/alejandra/Desktop/pw_131/Coding%20Temple%20/week%203/wknd%20project%20wk3/JupyterNotebook.ipynb#X12sZmlsZQ%3D%3D?line=10'>11</a>\u001b[0m \u001b[39mprint\u001b[39m(result)\n",
      "\u001b[0;31mNameError\u001b[0m: name 'investment' is not defined"
     ]
    }
   ],
   "source": [
    "investment: 26000\n",
    "income: 3000\n",
    "expense: 848\n",
    "\n",
    "def ROI(investment,income,expense):\n",
    "    net_profit = income * 12 - expense\n",
    "    roi = (net_profit/investment)*100\n",
    "    return roi\n",
    "\n",
    "result = ROI(investment,income,expense)\n",
    "print(result)"
   ]
  }
 ],
 "metadata": {
  "kernelspec": {
   "display_name": "base",
   "language": "python",
   "name": "python3"
  },
  "language_info": {
   "codemirror_mode": {
    "name": "ipython",
    "version": 3
   },
   "file_extension": ".py",
   "mimetype": "text/x-python",
   "name": "python",
   "nbconvert_exporter": "python",
   "pygments_lexer": "ipython3",
   "version": "3.11.4"
  },
  "orig_nbformat": 4
 },
 "nbformat": 4,
 "nbformat_minor": 2
}
